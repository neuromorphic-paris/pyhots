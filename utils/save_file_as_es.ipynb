{
 "cells": [
  {
   "cell_type": "markdown",
   "metadata": {},
   "source": [
    "### ASL-DVS"
   ]
  },
  {
   "cell_type": "code",
   "execution_count": null,
   "metadata": {},
   "outputs": [],
   "source": [
    "import numpy as np\n",
    "import scipy.io as sio\n",
    "import loris\n",
    "\n",
    "mat = sio.loadmat(\"/home/gregorlenz/Téléchargements/a/a_0095.mat\")\n",
    "\n",
    "x = mat['x'].reshape(-1)\n",
    "y = mat['y'].reshape(-1)\n",
    "ts = mat['ts'].reshape(-1)\n",
    "ts *= 20\n",
    "pol = mat['pol'].reshape(-1)\n",
    "\n",
    "test = np.rec.fromarrays([ts, x, y, pol], names='t,x,y,is_increase',\n",
    "                         dtype=[('t', '<u8'), ('x', '<u2'), ('y', '<u2'), ('is_increase', '?')])\n",
    "\n",
    "width = int(max(x)+1)\n",
    "height = int(max(y)+1)\n",
    "mat_file = {'type': 'dvs', 'width': width, 'height':height, 'events':test}\n",
    "loris.write_events_to_file(mat_file, '/home/gregorlenz/Téléchargements/test.es')"
   ]
  },
  {
   "cell_type": "markdown",
   "metadata": {},
   "source": [
    "### NMNIST"
   ]
  },
  {
   "cell_type": "code",
   "execution_count": null,
   "metadata": {},
   "outputs": [],
   "source": [
    "import numpy as np\n",
    "import spike_data_augmentation\n",
    "from spike_data_augmentation.datasets.dataloader import Dataloader\n",
    "import loris\n",
    "\n",
    "testset = spike_data_augmentation.datasets.NMNIST(save_to='./data', train=False, download=True, first_saccade_only=True)\n",
    "testloader = Dataloader(testset, shuffle=True)\n",
    "testiterator = iter(testloader)"
   ]
  },
  {
   "cell_type": "code",
   "execution_count": null,
   "metadata": {},
   "outputs": [],
   "source": [
    "events, label = next(testiterator)\n",
    "\n",
    "from numpy.lib import recfunctions as rfn\n",
    "\n",
    "x = events[:,0]\n",
    "y = events[:,1]\n",
    "ts = events[:,2]\n",
    "ts *= 20\n",
    "pol = events[:,3]\n",
    "\n",
    "new_events = np.rec.fromarrays([ts, x, y, pol], dtype=[('t', '<u8'), ('x', '<u2'), ('y', '<u2'), ('is_increase', '?')])\n",
    "\n",
    "width = int(max(x)+1)\n",
    "height = int(max(y)+1)\n",
    "mat_file = {'type': 'dvs', 'width': width, 'height':height, 'events':new_events}\n",
    "loris.write_events_to_file(mat_file, '/home/gregorlenz/Téléchargements/test.es')"
   ]
  },
  {
   "cell_type": "markdown",
   "metadata": {},
   "source": [
    "### IBM gestures"
   ]
  },
  {
   "cell_type": "code",
   "execution_count": null,
   "metadata": {},
   "outputs": [],
   "source": [
    "import numpy as np\n",
    "import spike_data_augmentation\n",
    "from spike_data_augmentation.datasets.dataloader import Dataloader\n",
    "import loris\n",
    "\n",
    "testset = spike_data_augmentation.datasets.IBMGesture(save_to='./data2', train=False, download=True)\n",
    "testloader = Dataloader(testset, shuffle=True)\n",
    "testiterator = iter(testloader)"
   ]
  },
  {
   "cell_type": "code",
   "execution_count": null,
   "metadata": {},
   "outputs": [],
   "source": [
    "events, label = next(testiterator)\n",
    "\n",
    "x = events[:,0]\n",
    "y = events[:,1]\n",
    "y = -1*(y - max(y))\n",
    "ts = events[:,3]\n",
    "ts *= 10000\n",
    "pol = events[:,2]\n",
    "\n",
    "new_events = np.rec.fromarrays([ts, x, y, pol], dtype=[('t', '<u8'), ('x', '<u2'), ('y', '<u2'), ('is_increase', '?')])\n",
    "\n",
    "width = int(max(x)+1)\n",
    "height = int(max(y)+1)\n",
    "print(height)\n",
    "print(int(min(y)))\n",
    "mat_file = {'type': 'dvs', 'width': width, 'height':height, 'events':new_events}\n",
    "loris.write_events_to_file(mat_file, '/home/gregorlenz/Téléchargements/test.es')"
   ]
  },
  {
   "cell_type": "code",
   "execution_count": null,
   "metadata": {},
   "outputs": [],
   "source": [
    "from numpy.lib import recfunctions as rfn\n",
    "\n",
    "dt = np.dtype([('t', '<u8'), ('x', '<u2'), ('y', '<u2'), ('p', np.int8)])\n",
    "events = rfn.unstructured_to_structured(floats, dt)\n"
   ]
  },
  {
   "cell_type": "code",
   "execution_count": null,
   "metadata": {},
   "outputs": [],
   "source": []
  }
 ],
 "metadata": {
  "kernelspec": {
   "display_name": "Python 3",
   "language": "python",
   "name": "python3"
  },
  "language_info": {
   "codemirror_mode": {
    "name": "ipython",
    "version": 3
   },
   "file_extension": ".py",
   "mimetype": "text/x-python",
   "name": "python",
   "nbconvert_exporter": "python",
   "pygments_lexer": "ipython3",
   "version": "3.7.3"
  }
 },
 "nbformat": 4,
 "nbformat_minor": 4
}
