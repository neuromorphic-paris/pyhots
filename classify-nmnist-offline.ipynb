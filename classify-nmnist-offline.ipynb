{
 "cells": [
  {
   "cell_type": "code",
   "execution_count": null,
   "metadata": {},
   "outputs": [],
   "source": [
    "import spike_data_augmentation\n",
    "import spike_data_augmentation.transforms as transforms\n",
    "import spike_data_augmentation.representations as representations\n",
    "\n",
    "#transform = transforms.Compose([transforms.TimeJitter(variance=100)])\n",
    "representation = representations.Timesurface(surface_dimensions=(13,13), tau=5e3, decay='exp')\n",
    "\n",
    "testset = spike_data_augmentation.datasets.NMNIST(save_to='./data', train=False, download=True,\n",
    "                                                  #transform=transform, # will be applied before representation \n",
    "                                                  representation=representation)\n",
    "\n",
    "testloader = spike_data_augmentation.datasets.Dataloader(testset, shuffle=True)\n",
    "\n",
    "for surfaces, label in iter(testloader):\n",
    "    print(\"surfaces shape: \" + str(surfaces.shape))"
   ]
  },
  {
   "cell_type": "code",
   "execution_count": null,
   "metadata": {},
   "outputs": [],
   "source": []
  }
 ],
 "metadata": {
  "kernelspec": {
   "display_name": "Python 3",
   "language": "python",
   "name": "python3"
  },
  "language_info": {
   "codemirror_mode": {
    "name": "ipython",
    "version": 3
   },
   "file_extension": ".py",
   "mimetype": "text/x-python",
   "name": "python",
   "nbconvert_exporter": "python",
   "pygments_lexer": "ipython3",
   "version": "3.7.3"
  }
 },
 "nbformat": 4,
 "nbformat_minor": 4
}
