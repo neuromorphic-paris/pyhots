{
 "cells": [
  {
   "cell_type": "code",
   "execution_count": null,
   "metadata": {},
   "outputs": [],
   "source": [
    "import spike_data_augmentation\n",
    "import spike_data_augmentation.transforms as transforms\n",
    "from utils.helper import get_all_file_paths\n",
    "from joblib import Parallel, delayed\n",
    "from multiprocessing import Process, Manager\n",
    "from math import sqrt\n",
    "import ipdb\n",
    "import os\n",
    "import numpy as np\n",
    "import time"
   ]
  },
  {
   "cell_type": "code",
   "execution_count": null,
   "metadata": {},
   "outputs": [],
   "source": [
    "surface_dimensions = [9,9]\n",
    "time_constant = 5e3\n",
    "transform = transforms.ToTimesurface(surface_dimensions=surface_dimensions, tau=time_constant, decay='lin', merge_polarities=True)\n",
    "\n",
    "testset = spike_data_augmentation.datasets.NMNIST(save_to='./data', train=True, download=True, transform=transform)"
   ]
  },
  {
   "cell_type": "code",
   "execution_count": null,
   "metadata": {},
   "outputs": [],
   "source": [
    "import multiprocessing\n",
    "from time import gmtime, strftime\n",
    "print(strftime(\"Started on %a, %d %b %Y %H:%M:%S\", gmtime()))\n",
    "start_time = time.time()\n",
    "\n",
    "\n",
    "def write_recording(data):\n",
    "    recording, label, sensor_size, ordering, index, surface_dimensions, folder = data\n",
    "    surf,_ = transform(recording, sensor_size, ordering)\n",
    "    surf = surf.reshape([-1,] + surface_dimensions)\n",
    "    file_name = './' + folder + str(index) + '_' + str(label) + '.npy'\n",
    "    np.save(file_name, surf)\n",
    "    \n",
    "folder = 'surf_{0}x{1}_tau_{2}/'.format(*surface_dimensions, int(time_constant))\n",
    "\n",
    "if __name__ == '__main__':\n",
    "    with multiprocessing.Pool(100) as pool:\n",
    "        if not os.path.exists(folder):\n",
    "            os.makedirs(folder)\n",
    "        overall = len(testset)\n",
    "        combination = zip(testset.data,\n",
    "                          testset.targets, \n",
    "                          [testset.sensor_size] * overall, \n",
    "                          [testset.ordering] * overall, \n",
    "                          np.arange(0,overall),\n",
    "                          [surface_dimensions] * overall,\n",
    "                          [folder] * overall)\n",
    "        all_surfaces = pool.map(write_recording, combination)\n",
    "        print(len(all_surfaces))\n",
    "    print(\"--- %s seconds ---\" % (time.time() - start_time))"
   ]
  },
  {
   "cell_type": "code",
   "execution_count": null,
   "metadata": {},
   "outputs": [],
   "source": [
    "all_paths = get_all_file_paths(folder)"
   ]
  },
  {
   "cell_type": "code",
   "execution_count": null,
   "metadata": {},
   "outputs": [],
   "source": [
    "with open(folder + '_all_paths.txt', 'w') as f:\n",
    "    for item in all_paths:\n",
    "        f.write(\"%s\\n\" % item)"
   ]
  }
 ],
 "metadata": {
  "kernelspec": {
   "display_name": "Python 3",
   "language": "python",
   "name": "python3"
  },
  "language_info": {
   "codemirror_mode": {
    "name": "ipython",
    "version": 3
   },
   "file_extension": ".py",
   "mimetype": "text/x-python",
   "name": "python",
   "nbconvert_exporter": "python",
   "pygments_lexer": "ipython3",
   "version": "3.7.4"
  }
 },
 "nbformat": 4,
 "nbformat_minor": 4
}
