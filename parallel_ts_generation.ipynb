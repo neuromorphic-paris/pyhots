{
 "cells": [
  {
   "cell_type": "code",
   "execution_count": null,
   "metadata": {},
   "outputs": [],
   "source": [
    "import spike_data_augmentation\n",
    "import spike_data_augmentation.transforms as transforms\n",
    "import spike_data_augmentation.representations as representations\n",
    "from joblib import Parallel, delayed\n",
    "from multiprocessing import Process, Manager\n",
    "from math import sqrt\n",
    "import numpy as np\n",
    "import time\n",
    "import os\n",
    "import ipdb"
   ]
  },
  {
   "cell_type": "code",
   "execution_count": null,
   "metadata": {},
   "outputs": [],
   "source": [
    "surface_dimensions = (7,7)\n",
    "representation = representations.Timesurface(surface_dimensions=surface_dimensions, tau=5e3, decay='lin', merge_polarities=True)\n",
    "\n",
    "testset = spike_data_augmentation.datasets.NMNIST(save_to='./data', train=False, download=True, representation=representation)"
   ]
  },
  {
   "cell_type": "code",
   "execution_count": null,
   "metadata": {},
   "outputs": [],
   "source": [
    "from multiprocessing import Pool\n",
    "start_time = time.time()\n",
    "\n",
    "def process_recording(recording):\n",
    "    surf = representation(recording, testset.sensor_size, testset.ordering)\n",
    "    surf = surf.reshape(-1, surface_dimensions[0], surface_dimensions[1])\n",
    "    surfaces_list_proxy.append(surf)\n",
    "\n",
    "if __name__ == '__main__':\n",
    "    with Manager() as manager:\n",
    "        surfaces_list_proxy = manager.list()\n",
    "        pool = Pool()\n",
    "        pool.map(process_recording, testset.data)\n",
    "        all_surfaces = list(surfaces_list_proxy)\n",
    "        print(\"--- %s seconds ---\" % (time.time() - start_time))"
   ]
  },
  {
   "cell_type": "code",
   "execution_count": null,
   "metadata": {},
   "outputs": [],
   "source": []
  },
  {
   "cell_type": "code",
   "execution_count": null,
   "metadata": {},
   "outputs": [],
   "source": []
  }
 ],
 "metadata": {
  "kernelspec": {
   "display_name": "Python 3",
   "language": "python",
   "name": "python3"
  },
  "language_info": {
   "codemirror_mode": {
    "name": "ipython",
    "version": 3
   },
   "file_extension": ".py",
   "mimetype": "text/x-python",
   "name": "python",
   "nbconvert_exporter": "python",
   "pygments_lexer": "ipython3",
   "version": "3.7.3"
  }
 },
 "nbformat": 4,
 "nbformat_minor": 4
}
