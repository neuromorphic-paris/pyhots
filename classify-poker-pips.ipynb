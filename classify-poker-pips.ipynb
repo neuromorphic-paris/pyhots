{
 "cells": [
  {
   "cell_type": "code",
   "execution_count": 1,
   "metadata": {},
   "outputs": [],
   "source": [
    "%matplotlib inline\n",
    "from pyhots.POKERDVS import POKERDVS\n",
    "from spike_data_augmentation.datasets.dataloader import Dataloader\n",
    "import spike_data_augmentation.transforms as transforms\n",
    "from pyhots.Network import Network\n"
   ]
  },
  {
   "cell_type": "code",
   "execution_count": 2,
   "metadata": {},
   "outputs": [
    {
     "name": "stdout",
     "output_type": "stream",
     "text": [
      "Read 3136 events of type dvs from cl_60_td.dat\n",
      "Read 2695 events of type dvs from cl_61_td.dat\n",
      "Read 2628 events of type dvs from cl_62_td.dat\n",
      "Read 2076 events of type dvs from cl_63_td.dat\n",
      "Read 2234 events of type dvs from cl_64_td.dat\n",
      "Read 2515 events of type dvs from cl_65_td.dat\n",
      "Read 2637 events of type dvs from cl_66_td.dat\n",
      "Read 3439 events of type dvs from cl_67_td.dat\n",
      "Read 1843 events of type dvs from cl_68_td.dat\n",
      "Read 2549 events of type dvs from cl_69_td.dat\n",
      "Read 1785 events of type dvs from cl_70_td.dat\n",
      "Read 3072 events of type dvs from cl_71_td.dat\n",
      "Read 3773 events of type dvs from cl_72_td.dat\n",
      "Read 2374 events of type dvs from cl_73_td.dat\n",
      "Read 3585 events of type dvs from cl_74_td.dat\n",
      "Read 3557 events of type dvs from cl_75_td.dat\n",
      "Read 2769 events of type dvs from di_17_td.dat\n",
      "Read 4316 events of type dvs from di_18_td.dat\n",
      "Read 4239 events of type dvs from di_19_td.dat\n",
      "Read 4083 events of type dvs from di_20_td.dat\n",
      "Read 3969 events of type dvs from di_21_td.dat\n",
      "Read 2358 events of type dvs from di_22_td.dat\n",
      "Read 3743 events of type dvs from di_23_td.dat\n",
      "Read 1408 events of type dvs from di_24_td.dat\n",
      "Read 3000 events of type dvs from di_25_td.dat\n",
      "Read 3013 events of type dvs from di_26_td.dat\n",
      "Read 2958 events of type dvs from di_27_td.dat\n",
      "Read 2696 events of type dvs from di_28_td.dat\n",
      "Read 1378 events of type dvs from di_29_td.dat\n",
      "Read 2918 events of type dvs from di_30_td.dat\n",
      "Read 3189 events of type dvs from di_31_td.dat\n",
      "Read 1216 events of type dvs from di_32_td.dat\n",
      "Read 3789 events of type dvs from he_77_td.dat\n",
      "Read 954 events of type dvs from he_78_td.dat\n",
      "Read 3577 events of type dvs from he_79_td.dat\n",
      "Read 3476 events of type dvs from he_80_td.dat\n",
      "Read 3002 events of type dvs from he_81_td.dat\n",
      "Read 3072 events of type dvs from he_82_td.dat\n",
      "Read 2599 events of type dvs from he_83_td.dat\n",
      "Read 3077 events of type dvs from he_84_td.dat\n",
      "Read 3137 events of type dvs from he_85_td.dat\n",
      "Read 2549 events of type dvs from he_86_td.dat\n",
      "Read 1493 events of type dvs from he_87_td.dat\n",
      "Read 3542 events of type dvs from he_88_td.dat\n",
      "Read 3168 events of type dvs from he_89_td.dat\n",
      "Read 1681 events of type dvs from he_90_td.dat\n",
      "Read 3272 events of type dvs from he_91_td.dat\n",
      "Read 3088 events of type dvs from he_92_td.dat\n",
      "Read 5366 events of type dvs from sp_75_td.dat\n",
      "Read 5387 events of type dvs from sp_76_td.dat\n",
      "Read 4496 events of type dvs from sp_77_td.dat\n",
      "Read 3387 events of type dvs from sp_78_td.dat\n",
      "Read 3504 events of type dvs from sp_79_td.dat\n",
      "Read 3181 events of type dvs from sp_80_td.dat\n",
      "Read 3941 events of type dvs from sp_81_td.dat\n",
      "Read 4129 events of type dvs from sp_82_td.dat\n",
      "Read 3424 events of type dvs from sp_83_td.dat\n",
      "Read 3478 events of type dvs from sp_84_td.dat\n",
      "Read 4693 events of type dvs from sp_85_td.dat\n",
      "Read 4819 events of type dvs from sp_86_td.dat\n",
      "Read 3307 events of type dvs from sp_87_td.dat\n",
      "Read 3309 events of type dvs from sp_88_td.dat\n",
      "Read 3209 events of type dvs from sp_89_td.dat\n",
      "Read 3282 events of type dvs from sp_90_td.dat\n"
     ]
    }
   ],
   "source": [
    "transform = transforms.Compose([transforms.DropEvent(drop_probability=0.0),\n",
    "                                ])\n",
    "\n",
    "testset = POKERDVS(file_dir='/home/gregorlenz/Development/Github/HOTS-DOJO/Datasets/Cards/usable/pips',\n",
    "                   transform=transform)"
   ]
  },
  {
   "cell_type": "code",
   "execution_count": 5,
   "metadata": {},
   "outputs": [
    {
     "data": {
      "image/png": "[encoded data removed]",
      "text/plain": [
       "<Figure size 432x288 with 17 Axes>"
      ]
     },
     "metadata": {
      "needs_background": "light"
     },
     "output_type": "display_data"
    },
    {
     "name": "stdout",
     "output_type": "stream",
     "text": [
      "added new base 1/16\n",
      "added new base 2/16\n",
      "added new base 3/16\n",
      "added new base 4/16\n",
      "added new base 5/16\n",
      "added new base 6/16\n",
      "added new base 7/16\n",
      "added new base 8/16\n",
      "added new base 9/16\n",
      "added new base 10/16\n",
      "added new base 11/16\n",
      "added new base 12/16\n",
      "added new base 13/16\n",
      "added new base 14/16\n",
      "added new base 15/16\n",
      "added new base 16/16\n"
     ]
    }
   ],
   "source": [
    "surface_dimensions = [(11, 11)]\n",
    "number_of_features = [16]\n",
    "time_constants = [5e3]\n",
    "total_number_of_events = testset.total_number_of_events()\n",
    "\n",
    "net = Network(surface_dimensions_per_layer=surface_dimensions,\n",
    "              number_of_features_per_layer=number_of_features,\n",
    "              time_constants_per_layer=time_constants,\n",
    "              sensor_size=POKERDVS.sensor_size,\n",
    "              plot_evolution=True,\n",
    "              total_number_of_events=total_number_of_events,\n",
    "              reboot_bases=False,\n",
    "              merge_polarities=True,)\n",
    "              #drop_off_events=False,)\n",
    "\n",
    "# pick 16 random files and one surface each to initialise bases\n",
    "testloader = Dataloader(testset, shuffle=True)\n",
    "for index, events_and_label in enumerate(iter(testloader)):\n",
    "    net(events_and_label[0], events_and_label[1])\n",
    "    if index >= number_of_features[0]:\n",
    "        break"
   ]
  },
  {
   "cell_type": "code",
   "execution_count": 6,
   "metadata": {},
   "outputs": [
    {
     "name": "stdout",
     "output_type": "stream",
     "text": [
      "Processed 0 cl, 0 he, 1 di, 0 sp,.\n",
      "Processed 0 cl, 1 he, 1 di, 0 sp,.\n",
      "Processed 0 cl, 2 he, 1 di, 0 sp,.\n",
      "Processed 0 cl, 3 he, 1 di, 0 sp,.\n",
      "Processed 0 cl, 3 he, 2 di, 0 sp,.\n",
      "Processed 0 cl, 3 he, 2 di, 1 sp,.\n",
      "Processed 0 cl, 3 he, 3 di, 1 sp,.\n",
      "Processed 0 cl, 4 he, 3 di, 1 sp,.\n",
      "Processed 0 cl, 4 he, 3 di, 2 sp,.\n",
      "Processed 0 cl, 4 he, 3 di, 3 sp,.\n",
      "Processed 1 cl, 4 he, 3 di, 3 sp,.\n",
      "Processed 1 cl, 4 he, 4 di, 3 sp,.\n",
      "Processed 1 cl, 4 he, 5 di, 3 sp,.\n",
      "Processed 1 cl, 4 he, 5 di, 4 sp,.\n",
      "Processed 1 cl, 5 he, 5 di, 4 sp,.\n",
      "Processed 2 cl, 5 he, 5 di, 4 sp,.\n",
      "Processed 2 cl, 5 he, 6 di, 4 sp,.\n",
      "Processed 2 cl, 6 he, 6 di, 4 sp,.\n",
      "Processed 2 cl, 7 he, 6 di, 4 sp,.\n",
      "Processed 2 cl, 7 he, 6 di, 5 sp,.\n",
      "Processed 3 cl, 7 he, 6 di, 5 sp,.\n",
      "Processed 4 cl, 7 he, 6 di, 5 sp,.\n",
      "Processed 5 cl, 7 he, 6 di, 5 sp,.\n",
      "Processed 5 cl, 8 he, 6 di, 5 sp,.\n",
      "Processed 5 cl, 8 he, 7 di, 5 sp,.\n",
      "Processed 5 cl, 9 he, 7 di, 5 sp,.\n",
      "Processed 5 cl, 9 he, 7 di, 6 sp,.\n",
      "Processed 5 cl, 10 he, 7 di, 6 sp,.\n",
      "Processed 6 cl, 10 he, 7 di, 6 sp,.\n",
      "Processed 6 cl, 10 he, 7 di, 7 sp,.\n",
      "Processed 6 cl, 10 he, 7 di, 8 sp,.\n",
      "Processed 6 cl, 10 he, 8 di, 8 sp,.\n",
      "Processed 6 cl, 10 he, 8 di, 9 sp,.\n",
      "Processed 7 cl, 10 he, 8 di, 9 sp,.\n",
      "Processed 7 cl, 11 he, 8 di, 9 sp,.\n",
      "Processed 7 cl, 11 he, 8 di, 10 sp,.\n",
      "Processed 7 cl, 11 he, 8 di, 11 sp,.\n",
      "Processed 7 cl, 11 he, 9 di, 11 sp,.\n",
      "Processed 8 cl, 11 he, 9 di, 11 sp,.\n",
      "Processed 8 cl, 11 he, 10 di, 11 sp,.\n",
      "Processed 9 cl, 11 he, 10 di, 11 sp,.\n",
      "Processed 9 cl, 11 he, 10 di, 12 sp,.\n",
      "Processed 9 cl, 11 he, 10 di, 13 sp,.\n",
      "Processed 9 cl, 12 he, 10 di, 13 sp,.\n",
      "Processed 9 cl, 12 he, 10 di, 14 sp,.\n",
      "Processed 9 cl, 12 he, 11 di, 14 sp,.\n",
      "Processed 9 cl, 12 he, 11 di, 15 sp,.\n",
      "Processed 9 cl, 12 he, 12 di, 15 sp,.\n",
      "Processed 10 cl, 12 he, 12 di, 15 sp,.\n",
      "Processed 10 cl, 13 he, 12 di, 15 sp,.\n",
      "Processed 10 cl, 13 he, 12 di, 16 sp,.\n",
      "Processed 10 cl, 13 he, 13 di, 16 sp,.\n",
      "Processed 10 cl, 14 he, 13 di, 16 sp,.\n",
      "Processed 10 cl, 14 he, 14 di, 16 sp,.\n",
      "Processed 11 cl, 14 he, 14 di, 16 sp,.\n",
      "Processed 12 cl, 14 he, 14 di, 16 sp,.\n",
      "Processed 12 cl, 15 he, 14 di, 16 sp,.\n",
      "Processed 13 cl, 15 he, 14 di, 16 sp,.\n",
      "Processed 13 cl, 15 he, 15 di, 16 sp,.\n",
      "Processed 14 cl, 15 he, 15 di, 16 sp,.\n",
      "Processed 14 cl, 16 he, 15 di, 16 sp,.\n",
      "Processed 15 cl, 16 he, 15 di, 16 sp,.\n",
      "Processed 16 cl, 16 he, 15 di, 16 sp,.\n"
     ]
    }
   ],
   "source": [
    "counts = dict(zip(POKERDVS.classes, [0, 0, 0, 0]))\n",
    "# start the learning\n",
    "testloader = Dataloader(testset, shuffle=True)\n",
    "testiterator = iter(testloader)\n",
    "for events, label in testiterator:\n",
    "    counts[label] += 1\n",
    "    net(events, label)\n",
    "    print('Processed', end='')\n",
    "    for key, value in counts.items():\n",
    "        print(' ' + str(value) + ' ' + key + ',', end='')\n",
    "    print('.')\n",
    "\n",
    "first = net.layers[0]"
   ]
  },
  {
   "cell_type": "code",
   "execution_count": 16,
   "metadata": {},
   "outputs": [
    {
     "data": {
      "image/png": "[encoded data removed]",
      "text/plain": [
       "<Figure size 432x288 with 4 Axes>"
      ]
     },
     "metadata": {
      "needs_background": "light"
     },
     "output_type": "display_data"
    }
   ],
   "source": [
    "import matplotlib.pyplot as plt\n",
    "import numpy as np\n",
    "fig, ax = plt.subplots(2,2)\n",
    "ax = ax.flatten()\n",
    "plt.plot(np.random.rand(10))\n",
    "axis = ax[0]"
   ]
  },
  {
   "cell_type": "code",
   "execution_count": null,
   "metadata": {},
   "outputs": [],
   "source": []
  },
  {
   "cell_type": "code",
   "execution_count": null,
   "metadata": {},
   "outputs": [],
   "source": []
  },
  {
   "cell_type": "markdown",
   "metadata": {},
   "source": []
  },
  {
   "cell_type": "code",
   "execution_count": null,
   "metadata": {},
   "outputs": [],
   "source": []
  },
  {
   "cell_type": "code",
   "execution_count": null,
   "metadata": {},
   "outputs": [],
   "source": []
  }
 ],
 "metadata": {
  "kernelspec": {
   "display_name": "Python 3",
   "language": "python",
   "name": "python3"
  },
  "language_info": {
   "codemirror_mode": {
    "name": "ipython",
    "version": 3
   },
   "file_extension": ".py",
   "mimetype": "text/x-python",
   "name": "python",
   "nbconvert_exporter": "python",
   "pygments_lexer": "ipython3",
   "version": "3.7.3"
  }
 },
 "nbformat": 4,
 "nbformat_minor": 4
}
