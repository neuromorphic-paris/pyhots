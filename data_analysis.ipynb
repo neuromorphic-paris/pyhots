{
 "cells": [
  {
   "cell_type": "code",
   "execution_count": null,
   "metadata": {},
   "outputs": [],
   "source": [
    "%matplotlib widget\n",
    "import numpy as np\n",
    "import matplotlib.pyplot as plt\n",
    "import seaborn as sns\n",
    "from sklearn.cluster import KMeans\n",
    "import ipdb\n",
    "import pickle"
   ]
  },
  {
   "cell_type": "code",
   "execution_count": null,
   "metadata": {},
   "outputs": [],
   "source": [
    "%%capture\n",
    "with open('layer_data.pkl', 'rb') as file:\n",
    "    first = pickle.load(file)\n",
    "surfs = first.all_timesurfaces.copy()\n",
    "# delete all empty surfaces\n",
    "surfs = surfs[surfs.sum(axis=(1,2,3)) != 0]\n",
    "# reshape into 2D array (flattening surfaces)\n",
    "surfs = surfs.reshape(-1,11*11)\n",
    "\n",
    "labels = first.all_labels.copy()\n",
    "labels = labels[labels != -1]\n",
    "\n",
    "assert len(labels) == len(surfs)"
   ]
  },
  {
   "cell_type": "code",
   "execution_count": null,
   "metadata": {},
   "outputs": [],
   "source": [
    "kmeans = KMeans(n_clusters=16).fit(surfs)\n",
    "centers = kmeans.cluster_centers_.reshape(-1,11,11)\n",
    "\n",
    "fig, axes = plt.subplots(4, 4)\n",
    "axes = np.reshape(axes, -1)\n",
    "\n",
    "for index, axis in enumerate(axes):\n",
    "    axis.imshow(centers[index], vmin=0, vmax=1,\n",
    "                cmap = plt.cm.hot, interpolation = 'none', origin = 'upper')"
   ]
  },
  {
   "cell_type": "code",
   "execution_count": null,
   "metadata": {},
   "outputs": [],
   "source": [
    "print('Original labels')\n",
    "print(labels[100:110])\n",
    "print(labels.shape)\n",
    "print('Kmeans labels')\n",
    "print(kmeans.labels_[100:110])\n",
    "print(kmeans.labels_.shape)\n",
    "\n",
    "zipped = np.array(zip(labels.astype(int), kmeans.labels_))\n",
    "\n",
    "stack = np.dstack((labels.astype(int), kmeans.labels_))\n",
    "stack = stack.reshape(-1, 2)\n",
    "\n",
    "recording_indices = np.where(labels[:-1] != labels[1:])[0]\n",
    "print(recording_indices)\n",
    "\n",
    "subarrays = np.split(kmeans.labels_, recording_indices+1)\n",
    "\n"
   ]
  },
  {
   "cell_type": "code",
   "execution_count": null,
   "metadata": {},
   "outputs": [],
   "source": [
    "# split X and y into training and testing sets\n",
    "from sklearn.cross_validation import train_test_split\n",
    "X_train,X_test,y_train,y_test=train_test_split(X,y,test_size=0.25,random_state=0)"
   ]
  },
  {
   "cell_type": "code",
   "execution_count": null,
   "metadata": {},
   "outputs": [],
   "source": [
    "from sklearn.linear_model import LogisticRegression\n",
    "logreg = LogisticRegression()\n",
    "# fit the model with data\n",
    "logreg.fit(X_train,y_train)\n",
    "y_pred=logreg.predict(X_test)"
   ]
  },
  {
   "cell_type": "code",
   "execution_count": null,
   "metadata": {},
   "outputs": [],
   "source": []
  }
 ],
 "metadata": {
  "kernelspec": {
   "display_name": "Python 3",
   "language": "python",
   "name": "python3"
  },
  "language_info": {
   "codemirror_mode": {
    "name": "ipython",
    "version": 3
   },
   "file_extension": ".py",
   "mimetype": "text/x-python",
   "name": "python",
   "nbconvert_exporter": "python",
   "pygments_lexer": "ipython3",
   "version": "3.7.3"
  }
 },
 "nbformat": 4,
 "nbformat_minor": 4
}
