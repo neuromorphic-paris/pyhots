{
 "cells": [
  {
   "cell_type": "code",
   "execution_count": null,
   "metadata": {},
   "outputs": [],
   "source": [
    "%matplotlib widget\n",
    "import numpy as np\n",
    "import matplotlib.pyplot as plt\n",
    "import seaborn as sns\n",
    "from sklearn.cluster import KMeans\n",
    "import ipdb\n",
    "import pickle"
   ]
  },
  {
   "cell_type": "markdown",
   "metadata": {},
   "source": [
    "### read all timesurfaces and associated labels from the first layer"
   ]
  },
  {
   "cell_type": "code",
   "execution_count": null,
   "metadata": {},
   "outputs": [],
   "source": [
    "%%capture\n",
    "with open('layer_data.pkl', 'rb') as file:\n",
    "    first = pickle.load(file)\n",
    "surfs = first.all_timesurfaces.copy()\n",
    "# delete all empty surfaces\n",
    "#surfs = surfs[surfs.sum(axis=(1,2,3)) != 0]\n",
    "# reshape into 2D array (flattening surfaces)\n",
    "#surfs = surfs.reshape(-1,11*11)\n",
    "\n",
    "labels = first.network.all_labels.copy()"
   ]
  },
  {
   "cell_type": "markdown",
   "metadata": {},
   "source": [
    "### Cluster all timesurfaces"
   ]
  },
  {
   "cell_type": "code",
   "execution_count": null,
   "metadata": {},
   "outputs": [],
   "source": [
    "n_of_centers = 16\n",
    "kmeans = KMeans(n_clusters=n_of_centers).fit(surfs)\n",
    "centers = kmeans.cluster_centers_.reshape(-1,11,11)\n",
    "\n",
    "fig, axes = plt.subplots(4, 4)\n",
    "axes = np.reshape(axes, -1)\n",
    "\n",
    "for index, axis in enumerate(axes):\n",
    "    axis.imshow(centers[index], vmin=0, vmax=1,\n",
    "                cmap = plt.cm.hot, interpolation = 'none', origin = 'upper')"
   ]
  },
  {
   "cell_type": "markdown",
   "metadata": {},
   "source": [
    "### Cut the array of timesurfaces and labels along recording borders and make histograms for each recording"
   ]
  },
  {
   "cell_type": "code",
   "execution_count": null,
   "metadata": {},
   "outputs": [],
   "source": [
    "print('Original labels for events')\n",
    "print(labels[2730:2740])\n",
    "print(labels.shape)\n",
    "print('Kmeans labels')\n",
    "print(kmeans.labels_[2730:2740])\n",
    "print(kmeans.labels_.shape)\n",
    "\n",
    "recording_indices = np.where(labels[:-1] != labels[1:])[0]\n",
    "recording_indices += 1\n",
    "print('Recording indices: ' + str(len(recording_indices)))\n",
    "print(recording_indices)\n",
    "\n",
    "kmeans_split = np.split(kmeans.labels_, recording_indices)\n",
    "label_split = np.split(labels, recording_indices)\n",
    "\n",
    "hists = []\n",
    "[hists.append(np.histogram(x, bins=np.arange(0,n_of_centers+1))[0]) for x in kmeans_split]\n",
    "short_labels = []\n",
    "[short_labels.append(x[0]) for x in label_split]\n",
    "\n",
    "print(short_labels)\n",
    "\n",
    "import collections\n",
    "collections.Counter(short_labels)"
   ]
  },
  {
   "cell_type": "code",
   "execution_count": null,
   "metadata": {},
   "outputs": [],
   "source": [
    "# split X and y into training and testing sets\n",
    "from sklearn.cross_validation import train_test_split\n",
    "X_train,X_test,y_train,y_test=train_test_split(X,y,test_size=0.25,random_state=0)"
   ]
  },
  {
   "cell_type": "code",
   "execution_count": null,
   "metadata": {},
   "outputs": [],
   "source": [
    "from sklearn.linear_model import LogisticRegression\n",
    "logreg = LogisticRegression()\n",
    "# fit the model with data\n",
    "logreg.fit(X_train,y_train)\n",
    "y_pred=logreg.predict(X_test)"
   ]
  },
  {
   "cell_type": "code",
   "execution_count": null,
   "metadata": {},
   "outputs": [],
   "source": [
    "first.network\n"
   ]
  },
  {
   "cell_type": "code",
   "execution_count": null,
   "metadata": {},
   "outputs": [],
   "source": []
  }
 ],
 "metadata": {
  "kernelspec": {
   "display_name": "Python 3",
   "language": "python",
   "name": "python3"
  },
  "language_info": {
   "codemirror_mode": {
    "name": "ipython",
    "version": 3
   },
   "file_extension": ".py",
   "mimetype": "text/x-python",
   "name": "python",
   "nbconvert_exporter": "python",
   "pygments_lexer": "ipython3",
   "version": "3.7.3"
  }
 },
 "nbformat": 4,
 "nbformat_minor": 4
}
