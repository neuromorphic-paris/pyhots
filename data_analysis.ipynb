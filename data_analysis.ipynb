{
 "cells": [
  {
   "cell_type": "code",
   "execution_count": null,
   "metadata": {},
   "outputs": [],
   "source": [
    "%matplotlib widget\n",
    "from pyhots.POKERDVS import POKERDVS\n",
    "from spike_data_augmentation.datasets.dataloader import Dataloader\n",
    "import spike_data_augmentation.transforms as transforms\n",
    "import spike_data_augmentation.representations as representations\n",
    "from sklearn.cluster import KMeans\n",
    "import matplotlib.pyplot as plt\n",
    "import ipdb\n",
    "import numpy as np"
   ]
  },
  {
   "cell_type": "code",
   "execution_count": null,
   "metadata": {},
   "outputs": [],
   "source": [
    "%%capture\n",
    "transform = transforms.Compose([transforms.DropEvent(drop_probability=0.0)])\n",
    "representation = representations.Timesurface(surface_dimensions=(11,11), tau=5e3, merge_polarities=True)\n",
    "\n",
    "testset = POKERDVS(file_dir='/home/gregorlenz/Development/Github/HOTS-DOJO/Datasets/Cards/usable/pips',\n",
    "                   transform=transform, representation=representation)"
   ]
  },
  {
   "cell_type": "markdown",
   "metadata": {},
   "source": [
    "### read all timesurfaces and associated labels from the first layer"
   ]
  },
  {
   "cell_type": "code",
   "execution_count": null,
   "metadata": {},
   "outputs": [],
   "source": [
    "testloader = Dataloader(testset, shuffle=True)\n",
    "testiterator = iter(testloader)\n",
    "\n",
    "all_surfaces = []\n",
    "all_labels = []\n",
    "for surfaces, label in testiterator:\n",
    "    all_surfaces.append(surfaces)\n",
    "    all_labels.append(label)\n",
    "    counts[label] += 1\n",
    "    print('Processed', end='')\n",
    "    for key, value in counts.items():\n",
    "        print(' ' + str(value) + ' ' + key + ',', end='')\n",
    "    print('.')\n"
   ]
  },
  {
   "cell_type": "code",
   "execution_count": null,
   "metadata": {},
   "outputs": [],
   "source": [
    "all_surfaces.flatten()"
   ]
  },
  {
   "cell_type": "markdown",
   "metadata": {},
   "source": [
    "### Cluster all timesurfaces"
   ]
  },
  {
   "cell_type": "code",
   "execution_count": null,
   "metadata": {},
   "outputs": [],
   "source": [
    "n_of_centers = 16\n",
    "kmeans = KMeans(n_clusters=n_of_centers).fit(surfs)\n",
    "centers = kmeans.cluster_centers_.reshape(-1,11,11)\n",
    "\n",
    "fig, axes = plt.subplots(4, 4)\n",
    "axes = np.reshape(axes, -1)\n",
    "\n",
    "for index, axis in enumerate(axes):\n",
    "    axis.imshow(centers[index], vmin=0, vmax=1,\n",
    "                cmap = plt.cm.hot, interpolation = 'none', origin = 'upper')"
   ]
  },
  {
   "cell_type": "markdown",
   "metadata": {},
   "source": [
    "### Cut the array of timesurfaces and labels along recording borders and make histograms for each recording"
   ]
  },
  {
   "cell_type": "code",
   "execution_count": null,
   "metadata": {},
   "outputs": [],
   "source": []
  },
  {
   "cell_type": "code",
   "execution_count": null,
   "metadata": {},
   "outputs": [],
   "source": [
    "print('Original labels for events')\n",
    "print(labels[2730:2740])\n",
    "print(labels.shape)\n",
    "print('Kmeans labels')\n",
    "print(kmeans.labels_[2730:2740])\n",
    "print(kmeans.labels_.shape)\n",
    "\n",
    "\n",
    "\n",
    "kmeans_split = np.split(kmeans.labels_, recording_indices)\n",
    "label_split = np.split(labels, recording_indices)\n",
    "\n",
    "hists = []\n",
    "[hists.append(np.histogram(x, bins=np.arange(0,n_of_centers+1))[0]) for x in kmeans_split]\n",
    "short_labels = []\n",
    "[short_labels.append(x[0]) for x in label_split]\n",
    "\n",
    "print(short_labels)\n",
    "\n",
    "import collections\n",
    "collections.Counter(short_labels)"
   ]
  },
  {
   "cell_type": "code",
   "execution_count": null,
   "metadata": {},
   "outputs": [],
   "source": [
    "# split X and y into training and testing sets\n",
    "from sklearn.cross_validation import train_test_split\n",
    "X_train,X_test,y_train,y_test=train_test_split(X,y,test_size=0.25,random_state=0)"
   ]
  },
  {
   "cell_type": "code",
   "execution_count": null,
   "metadata": {},
   "outputs": [],
   "source": [
    "from sklearn.linear_model import LogisticRegression\n",
    "logreg = LogisticRegression()\n",
    "# fit the model with data\n",
    "logreg.fit(X_train,y_train)\n",
    "y_pred=logreg.predict(X_test)"
   ]
  },
  {
   "cell_type": "code",
   "execution_count": null,
   "metadata": {},
   "outputs": [],
   "source": [
    "all_surfaces[3].shape"
   ]
  },
  {
   "cell_type": "code",
   "execution_count": null,
   "metadata": {},
   "outputs": [],
   "source": []
  }
 ],
 "metadata": {
  "kernelspec": {
   "display_name": "Python 3",
   "language": "python",
   "name": "python3"
  },
  "language_info": {
   "codemirror_mode": {
    "name": "ipython",
    "version": 3
   },
   "file_extension": ".py",
   "mimetype": "text/x-python",
   "name": "python",
   "nbconvert_exporter": "python",
   "pygments_lexer": "ipython3",
   "version": "3.7.3"
  }
 },
 "nbformat": 4,
 "nbformat_minor": 4
}
