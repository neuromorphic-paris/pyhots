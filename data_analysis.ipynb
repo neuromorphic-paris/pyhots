{
 "cells": [
  {
   "cell_type": "code",
   "execution_count": null,
   "metadata": {},
   "outputs": [],
   "source": [
    "%matplotlib nbagg\n",
    "import numpy as np\n",
    "import matplotlib.pyplot as plt\n",
    "import seaborn as sns\n",
    "from sklearn.cluster import KMeans\n",
    "import ipdb\n",
    "import pickle"
   ]
  },
  {
   "cell_type": "code",
   "execution_count": null,
   "metadata": {},
   "outputs": [],
   "source": [
    "with open('layer_data.pkl', 'rb') as file:\n",
    "    first = pickle.load(file)\n",
    "surfs = first.all_timesurfaces.copy()\n",
    "# delete all empty surfaces\n",
    "surfs = surfs[surfs.sum(axis=(1,2,3)) != 0]\n",
    "# reshape into 2D array (flattening surfaces)\n",
    "surfs = surfs.reshape(-1,11*11)\n",
    "\n",
    "labels = first.all_labels.copy()\n",
    "labels = labels[labels != -1]\n",
    "\n"
   ]
  },
  {
   "cell_type": "code",
   "execution_count": null,
   "metadata": {},
   "outputs": [],
   "source": [
    "surfs = first.all_timesurfaces.copy()\n",
    "surfs = surfs.reshape(-1, 11*11)\n",
    "surfs.shape\n",
    "surfs.sum(axis=)\n",
    "surfs[surfs.sum(axis=(1,2,3)) != 0].shape"
   ]
  },
  {
   "cell_type": "code",
   "execution_count": null,
   "metadata": {},
   "outputs": [],
   "source": [
    "kmeans = KMeans(n_clusters=16).fit(surfs)\n",
    "centers = kmeans.labels_.reshape(-1,11,11)\n",
    "\n",
    "# %%\n",
    "fig, axes = plt.subplots(4, 4)\n",
    "axes = np.reshape(axes, -1)\n",
    "\n",
    "for index, axis in enumerate(axes):\n",
    "    axis.imshow(centers[index], vmin=0, vmax=1,\n",
    "                cmap = plt.cm.hot, interpolation = 'none', origin = 'upper')"
   ]
  }
 ],
 "metadata": {
  "kernelspec": {
   "display_name": "Python 3",
   "language": "python",
   "name": "python3"
  },
  "language_info": {
   "codemirror_mode": {
    "name": "ipython",
    "version": 3
   },
   "file_extension": ".py",
   "mimetype": "text/x-python",
   "name": "python",
   "nbconvert_exporter": "python",
   "pygments_lexer": "ipython3",
   "version": "3.7.3"
  }
 },
 "nbformat": 4,
 "nbformat_minor": 4
}
