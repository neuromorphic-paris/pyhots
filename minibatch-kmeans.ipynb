{
 "cells": [
  {
   "cell_type": "code",
   "execution_count": null,
   "metadata": {},
   "outputs": [],
   "source": [
    "%matplotlib widget\n",
    "import spike_data_augmentation\n",
    "from spike_data_augmentation.datasets.dataloader import Dataloader\n",
    "import spike_data_augmentation.transforms as transforms\n",
    "from sklearn.cluster import MiniBatchKMeans\n",
    "import ipdb\n",
    "import numpy as np\n",
    "from utils.helper import plot_centers, create_histograms\n",
    "from tqdm.auto import tqdm\n",
    "from sklearn.linear_model import LogisticRegression\n",
    "from sklearn.metrics import classification_report, confusion_matrix\n",
    "from time import gmtime, strftime\n",
    "print(strftime(\"Started on %a, %d %b %Y %H:%M:%S\", gmtime()))"
   ]
  },
  {
   "cell_type": "markdown",
   "metadata": {},
   "source": [
    "### Parametrise notebook using papermill"
   ]
  },
  {
   "cell_type": "code",
   "execution_count": null,
   "metadata": {
    "tags": [
     "parameters"
    ]
   },
   "outputs": [],
   "source": [
    "surface_dimensions = [9,9]\n",
    "dropout_probability = 0.9\n",
    "refractory_period = 50\n",
    "time_constant = 50e3\n",
    "n_of_centers = 49\n",
    "file_name = 'placeholder'"
   ]
  },
  {
   "cell_type": "markdown",
   "metadata": {},
   "source": [
    "### Choose training dataset and representation"
   ]
  },
  {
   "cell_type": "code",
   "execution_count": null,
   "metadata": {},
   "outputs": [],
   "source": [
    "transform = transforms.Compose([transforms.RefractoryPeriod(refractory_period=refractory_period), transforms.DropEvent(drop_probability=dropout_probability)])\n",
    "representation = spike_data_augmentation.representations.Timesurface(surface_dimensions=surface_dimensions, tau=time_constant, merge_polarities=True)\n",
    "\n",
    "trainset = spike_data_augmentation.datasets.NMNIST(save_to='./data', train=True, transform=transform, representation=representation, download=True)"
   ]
  },
  {
   "cell_type": "markdown",
   "metadata": {},
   "source": [
    "### Read timesurfaces and use minibatch clustering"
   ]
  },
  {
   "cell_type": "code",
   "execution_count": null,
   "metadata": {},
   "outputs": [],
   "source": [
    "trainloader = Dataloader(trainset, shuffle=True)\n",
    "trainiterator = iter(trainloader)\n",
    "\n",
    "kmeans = MiniBatchKMeans(n_clusters=n_of_centers)\n",
    "\n",
    "dims_prod = np.prod(surface_dimensions)\n",
    "result = [kmeans.partial_fit(surfaces.reshape(-1, dims_prod)) for surfaces, label in tqdm(trainiterator)]"
   ]
  },
  {
   "cell_type": "markdown",
   "metadata": {},
   "source": [
    "### plot centers"
   ]
  },
  {
   "cell_type": "code",
   "execution_count": null,
   "metadata": {},
   "outputs": [],
   "source": [
    "centers = kmeans.cluster_centers_.reshape([-1,] + surface_dimensions)\n",
    "activations = kmeans.counts_\n",
    "#plot_centers(centers, activations)"
   ]
  },
  {
   "cell_type": "markdown",
   "metadata": {},
   "source": [
    "### Train classifier"
   ]
  },
  {
   "cell_type": "code",
   "execution_count": null,
   "metadata": {},
   "outputs": [],
   "source": [
    "trainloader = Dataloader(trainset, shuffle=True)\n",
    "trainiterator = iter(trainloader)\n",
    "\n",
    "all_kmeans_labels = []\n",
    "all_labels = []\n",
    "dims_prod = np.prod(surface_dimensions)\n",
    "for surfaces, label in tqdm(trainiterator):\n",
    "    surfaces = surfaces.reshape(-1, dims_prod)\n",
    "    surf_labels = kmeans.predict(surfaces)\n",
    "    all_kmeans_labels.append(surf_labels)\n",
    "    all_labels.append(label)\n",
    "\n",
    "hists = create_histograms(all_kmeans_labels, n_of_centers)\n",
    "\n",
    "logreg = LogisticRegression(solver='lbfgs', multi_class='multinomial', max_iter=2000)\n",
    "logreg.fit(hists, all_labels)"
   ]
  },
  {
   "cell_type": "markdown",
   "metadata": {},
   "source": [
    "### Build histograms for each testing datapoint and classify"
   ]
  },
  {
   "cell_type": "code",
   "execution_count": null,
   "metadata": {},
   "outputs": [],
   "source": [
    "testset = spike_data_augmentation.datasets.NMNIST(save_to='./data', train=False, representation=representation, download=True)\n",
    "testloader = Dataloader(testset, shuffle=True)\n",
    "testiterator = iter(testloader)\n",
    "\n",
    "all_kmeans_labels = []\n",
    "all_labels = []\n",
    "for surfaces, label in tqdm(testiterator):\n",
    "    surfaces = surfaces.reshape(-1, np.prod(surface_dimensions))\n",
    "    surf_labels = kmeans.predict(surfaces)\n",
    "    all_kmeans_labels.append(surf_labels)\n",
    "    all_labels.append(label)"
   ]
  },
  {
   "cell_type": "code",
   "execution_count": null,
   "metadata": {},
   "outputs": [],
   "source": [
    "hists = create_histograms(all_kmeans_labels, n_of_centers)\n",
    "assert len(hists) == len(all_labels)\n",
    "\n",
    "score = logreg.score(hists, all_labels)\n",
    "print(classification_report(all_labels, logreg.predict(hists)))\n",
    "print(confusion_matrix(all_labels, logreg.predict(hists)))\n",
    "print(strftime(\"Finished on %a, %d %b %Y %H:%M:%S\", gmtime()))"
   ]
  },
  {
   "cell_type": "markdown",
   "metadata": {},
   "source": [
    "### don't look at this hacky bit to list scores in nb filenames generated by papermill ;P"
   ]
  },
  {
   "cell_type": "code",
   "execution_count": null,
   "metadata": {},
   "outputs": [],
   "source": [
    "import os\n",
    "new_file_name = './milled_nbs/' + str(round(score, 4)) + file_name\n",
    "os.rename('./milled_nbs/' + file_name, new_file_name)"
   ]
  }
 ],
 "metadata": {
  "kernelspec": {
   "display_name": "Python 3",
   "language": "python",
   "name": "python3"
  },
  "language_info": {
   "codemirror_mode": {
    "name": "ipython",
    "version": 3
   },
   "file_extension": ".py",
   "mimetype": "text/x-python",
   "name": "python",
   "nbconvert_exporter": "python",
   "pygments_lexer": "ipython3",
   "version": "3.7.4"
  }
 },
 "nbformat": 4,
 "nbformat_minor": 4
}
