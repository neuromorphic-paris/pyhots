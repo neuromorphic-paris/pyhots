{
 "cells": [
  {
   "cell_type": "code",
   "execution_count": null,
   "metadata": {},
   "outputs": [],
   "source": [
    "%matplotlib widget\n",
    "import spike_data_augmentation\n",
    "from spike_data_augmentation.datasets.dataloader import Dataloader\n",
    "import spike_data_augmentation.transforms as transforms\n",
    "import ipdb\n",
    "import numpy as np\n",
    "from utils.helper import plot_centers, create_histograms\n",
    "from tqdm.auto import tqdm\n",
    "from sklearn.cluster import MiniBatchKMeans\n",
    "from sklearn.linear_model import LogisticRegression\n",
    "from sklearn.naive_bayes import GaussianNB\n",
    "from sklearn.neighbors import KNeighborsClassifier\n",
    "from sklearn.metrics import classification_report, confusion_matrix\n",
    "from time import gmtime, strftime\n",
    "print(strftime(\"Started on %a, %d %b %Y %H:%M:%S\", gmtime()))"
   ]
  },
  {
   "cell_type": "markdown",
   "metadata": {},
   "source": [
    "### Parametrise notebook using papermill"
   ]
  },
  {
   "cell_type": "code",
   "execution_count": null,
   "metadata": {
    "tags": [
     "parameters"
    ]
   },
   "outputs": [],
   "source": [
    "surface_dimensions = [9,9]\n",
    "dropout_probability = 0\n",
    "refractory_period = 0\n",
    "time_constant = 10e3\n",
    "n_of_centers = 500\n",
    "first_saccade_only = True\n",
    "file_name = 'placeholder'"
   ]
  },
  {
   "cell_type": "markdown",
   "metadata": {},
   "source": [
    "### Choose training dataset and representation"
   ]
  },
  {
   "cell_type": "code",
   "execution_count": null,
   "metadata": {},
   "outputs": [],
   "source": [
    "if file_name != 'placeholder':\n",
    "    import time\n",
    "    time.sleep(np.random.rand(1)*100)\n",
    "\n",
    "transform = transforms.Compose([transforms.RefractoryPeriod(refractory_period=refractory_period), transforms.DropEvent(drop_probability=dropout_probability)])\n",
    "representation = spike_data_augmentation.representations.Timesurface(surface_dimensions=surface_dimensions, tau=time_constant, merge_polarities=True)\n",
    "\n",
    "trainset = spike_data_augmentation.datasets.IBMGesture(save_to='./data', train=True, representation=representation, download=True)\n",
    "#trainset = spike_data_augmentation.datasets.NMNIST(save_to='./data', train=True, representation=representation, download=True, first_saccade_only=first_saccade_only)\n",
    "trainloader = Dataloader(trainset, shuffle=True)\n",
    "\n",
    "augmentation = False if dropout_probability == 0 and refractory_period == 0 else True\n",
    "\n",
    "if augmentation:\n",
    "    trainset_augmented = spike_data_augmentation.datasets.IBMGesture(save_to='./data', train=True, transform=transform, \n",
    "                                                                     representation=representation, download=True)\n",
    "    #trainset_augmented = spike_data_augmentation.datasets.NMNIST(save_to='./data', train=True, transform=transform, representation=representation, download=True, first_saccade_only=first_saccade_only)\n",
    "    trainloader_augmented = Dataloader(trainset_augmented, shuffle=True)"
   ]
  },
  {
   "cell_type": "markdown",
   "metadata": {},
   "source": [
    "### Read timesurfaces and use minibatch clustering"
   ]
  },
  {
   "cell_type": "code",
   "execution_count": null,
   "metadata": {},
   "outputs": [],
   "source": [
    "kmeans = MiniBatchKMeans(n_clusters=n_of_centers)\n",
    "dims_prod = np.prod(surface_dimensions)\n",
    "\n",
    "if augmentation:  # mix normal and augmented training sets\n",
    "    mixed_loaders = zip(trainloader, trainloader_augmented)\n",
    "    #for rec, rec_aug in tqdm(mixed_loaders):\n",
    "    for rec, rec_aug in mixed_loaders:\n",
    "        surf, label = rec\n",
    "        kmeans.partial_fit(surf.reshape(-1, dims_prod))\n",
    "        surf_aug, label = rec_aug\n",
    "        kmeans.partial_fit(surf_aug.reshape(-1, dims_prod))\n",
    "else:  # only take training set without transforms\n",
    "    trainiterator = iter(trainloader)\n",
    "    #result = [kmeans.partial_fit(surfaces.reshape(-1, dims_prod)) for surfaces, label in tqdm(trainiterator)]\n",
    "    result = [kmeans.partial_fit(surfaces.reshape(-1, dims_prod)) for surfaces, label in trainiterator]"
   ]
  },
  {
   "cell_type": "markdown",
   "metadata": {},
   "source": [
    "### plot centers"
   ]
  },
  {
   "cell_type": "code",
   "execution_count": null,
   "metadata": {},
   "outputs": [],
   "source": [
    "centers = kmeans.cluster_centers_.reshape([-1,] + surface_dimensions)\n",
    "activations = kmeans.counts_\n",
    "#plot_centers(centers, activations)"
   ]
  },
  {
   "cell_type": "markdown",
   "metadata": {},
   "source": [
    "### Train classifiers"
   ]
  },
  {
   "cell_type": "code",
   "execution_count": null,
   "metadata": {},
   "outputs": [],
   "source": [
    "trainloader = Dataloader(trainset, shuffle=True)\n",
    "trainiterator = iter(trainloader)\n",
    "\n",
    "training_cluster_assignments = []\n",
    "training_labels = []\n",
    "#for surfaces, label in tqdm(trainiterator):\n",
    "for surfaces, label in trainiterator:\n",
    "    surfaces = surfaces.reshape(-1, dims_prod)\n",
    "    surf_labels = kmeans.predict(surfaces)\n",
    "    training_cluster_assignments.append(surf_labels)\n",
    "    training_labels.append(label)\n",
    "\n",
    "training_features = create_histograms(training_cluster_assignments, n_of_centers)\n",
    "\n",
    "logreg = LogisticRegression(solver='lbfgs', multi_class='multinomial', max_iter=2000)\n",
    "logreg.fit(training_features, training_labels)\n",
    "\n",
    "gnb = GaussianNB()\n",
    "gnb.fit(training_features, training_labels)\n",
    "\n",
    "knn = KNeighborsClassifier()\n",
    "knn.fit(training_features, training_labels)"
   ]
  },
  {
   "cell_type": "markdown",
   "metadata": {},
   "source": [
    "### Build testing features and classify"
   ]
  },
  {
   "cell_type": "code",
   "execution_count": null,
   "metadata": {},
   "outputs": [],
   "source": [
    "testset = spike_data_augmentation.datasets.IBMGesture(save_to='./data', train=False, representation=representation, download=True)\n",
    "#testset = spike_data_augmentation.datasets.NMNIST(save_to='./data', train=False, representation=representation, download=True, first_saccade_only=first_saccade_only)\n",
    "testloader = Dataloader(testset, shuffle=True)\n",
    "testiterator = iter(testloader)\n",
    "\n",
    "testing_cluster_assignments = []\n",
    "testing_labels = []\n",
    "for surfaces, label in tqdm(testiterator):\n",
    "    surfaces = surfaces.reshape(-1, np.prod(surface_dimensions))\n",
    "    surf_labels = kmeans.predict(surfaces)\n",
    "    testing_cluster_assignments.append(surf_labels)\n",
    "    testing_labels.append(label)"
   ]
  },
  {
   "cell_type": "code",
   "execution_count": null,
   "metadata": {},
   "outputs": [],
   "source": [
    "testing_features = create_histograms(testing_cluster_assignments, n_of_centers)\n",
    "assert len(testing_features) == len(testing_labels)\n",
    "\n",
    "scores = dict(zip(['logreg', 'gnb', 'knn'], [0,0,0]))\n",
    "scores['logreg'] = logreg.score(testing_features, testing_labels)\n",
    "scores['gnb'] = gnb.score(testing_features, testing_labels)\n",
    "scores['knn'] = knn.score(testing_features, testing_labels)\n",
    "scores = {k: round(v, 4) for k,v in scores.items()}\n",
    "winner_classifier = max(scores.keys(), key=(lambda key: scores[key]))\n",
    "print(str(scores))\n",
    "#print(classification_report(testing_labels, logreg.predict(testing_features)))\n",
    "print(confusion_matrix(testing_labels, logreg.predict(testing_features)))\n",
    "print(strftime(\"Finished on %a, %d %b %Y %H:%M:%S\", gmtime()))"
   ]
  },
  {
   "cell_type": "markdown",
   "metadata": {},
   "source": [
    "### don't look at this hacky bit to list scores in nb filenames generated by papermill ;P"
   ]
  },
  {
   "cell_type": "code",
   "execution_count": null,
   "metadata": {},
   "outputs": [],
   "source": [
    "import os\n",
    "new_file_name = './milled_nbs/' + str(scores[winner_classifier]) + '_' + winner_classifier + file_name\n",
    "os.rename('./milled_nbs/' + file_name, new_file_name)"
   ]
  }
 ],
 "metadata": {
  "kernelspec": {
   "display_name": "Python 3",
   "language": "python",
   "name": "python3"
  },
  "language_info": {
   "codemirror_mode": {
    "name": "ipython",
    "version": 3
   },
   "file_extension": ".py",
   "mimetype": "text/x-python",
   "name": "python",
   "nbconvert_exporter": "python",
   "pygments_lexer": "ipython3",
   "version": "3.7.3"
  }
 },
 "nbformat": 4,
 "nbformat_minor": 4
}
