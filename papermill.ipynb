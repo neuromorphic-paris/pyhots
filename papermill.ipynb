{
 "cells": [
  {
   "cell_type": "markdown",
   "metadata": {},
   "source": [
    "### Create permutations of possible parameters"
   ]
  },
  {
   "cell_type": "code",
   "execution_count": null,
   "metadata": {},
   "outputs": [],
   "source": [
    "from itertools import product\n",
    "import numpy as np\n",
    "\n",
    "input_nb_path = './minibatch-kmeans.ipynb'\n",
    "\n",
    "parameter_dict = {\n",
    "'surface_dimensions' : [[9,9], [13,13]],\n",
    "'time_constant' : [10000, 25000, 50000],\n",
    "'dropout_probability' : [0, 0.5, 0.9],\n",
    "'n_of_centers' : [36, 49, 64],\n",
    "}\n",
    "\n",
    "value_permutations = list(product(*list(parameter_dict.values())))\n",
    "print('First set of ' + str(len(value_permutations)) + ' parameter combinations: '+ str(dict(zip(parameter_dict.keys(), value_permutations[0]))))\n",
    "\n",
    "short_keys = ['_'+k[:4]+'_' for k in list(parameter_dict.keys())] # will be used for nb filenames"
   ]
  },
  {
   "cell_type": "markdown",
   "metadata": {},
   "source": [
    "### Execute notebooks in parallel"
   ]
  },
  {
   "cell_type": "code",
   "execution_count": null,
   "metadata": {},
   "outputs": [],
   "source": [
    "import multiprocessing\n",
    "import os, glob\n",
    "import time\n",
    "from functools import partial\n",
    "import papermill as pm\n",
    "from joblib import Parallel, delayed, parallel_backend\n",
    "\n",
    "def process_notebook(params, short_keys, parameter_dict, input_nb_path):\n",
    "    string = ''\n",
    "    for index, key in enumerate(short_keys):\n",
    "        string += key + str(params[index])\n",
    "    string += '.ipynb'\n",
    "\n",
    "    param_dict = dict(zip(parameter_dict.keys(), params))\n",
    "    print(param_dict)\n",
    "    param_dict['file_name'] = string\n",
    "    \n",
    "    output = './milled_nbs/' + string\n",
    "    pm.execute_notebook(\n",
    "       input_nb_path,\n",
    "       output,\n",
    "       parameters = param_dict\n",
    "    )\n",
    "\n",
    "start_time = time.time()\n",
    "#with parallel_backend(\"loky\", inner_max_num_threads=2):\n",
    "Parallel(n_jobs=len(value_permutations))(delayed(process_notebook)(params, short_keys, parameter_dict, input_nb_path) for params in value_permutations)\n",
    "print(\"--- %s seconds ---\" % (time.time() - start_time))\n",
    "#for filename in glob.glob(\"./milled_nbs/_surf*\"):\n",
    "#    os.remove(filename) "
   ]
  },
  {
   "cell_type": "code",
   "execution_count": null,
   "metadata": {},
   "outputs": [],
   "source": []
  }
 ],
 "metadata": {
  "kernelspec": {
   "display_name": "Python 3",
   "language": "python",
   "name": "python3"
  },
  "language_info": {
   "codemirror_mode": {
    "name": "ipython",
    "version": 3
   },
   "file_extension": ".py",
   "mimetype": "text/x-python",
   "name": "python",
   "nbconvert_exporter": "python",
   "pygments_lexer": "ipython3",
   "version": "3.7.3"
  }
 },
 "nbformat": 4,
 "nbformat_minor": 4
}
