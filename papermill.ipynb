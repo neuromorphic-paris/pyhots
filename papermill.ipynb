{
 "cells": [
  {
   "cell_type": "markdown",
   "metadata": {},
   "source": [
    "### Create permutations of possible parameters"
   ]
  },
  {
   "cell_type": "code",
   "execution_count": null,
   "metadata": {},
   "outputs": [],
   "source": [
    "from itertools import product\n",
    "\n",
    "input_nb_path = './pokerpips-minibatch-kmeans.ipynb'\n",
    "\n",
    "surface_dims = [[7,7], [5,5]]\n",
    "dropout_probabilities = [0]\n",
    "time_constants = [1000]\n",
    "n_of_centers = [16, 32]\n",
    "\n",
    "param_keys = ['surface_dimensions', 'dropout_probability', 'time_constant', 'n_of_centers'] # related to params of nb under test\n",
    "param_permutations = list(product(surface_dims, dropout_probabilities, time_constants, n_of_centers))\n",
    "\n",
    "print('First set of ' + str(len(param_permutations)) + ' parameter combinations: '+ str(dict(zip(param_keys, param_permutations[0]))))\n",
    "\n",
    "short_keys = ['surf_', '_drop_', '_tau_', '_center_']"
   ]
  },
  {
   "cell_type": "markdown",
   "metadata": {},
   "source": [
    "### Execute notebooks in parallel"
   ]
  },
  {
   "cell_type": "code",
   "execution_count": null,
   "metadata": {},
   "outputs": [],
   "source": [
    "from multiprocessing import Pool, Manager\n",
    "import os, glob\n",
    "import time\n",
    "start_time = time.time()\n",
    "\n",
    "def process_notebook(params):\n",
    "    string = ''\n",
    "    for index, key in enumerate(short_keys):\n",
    "        string += key + str(params[index])\n",
    "    string += '.ipynb'\n",
    "\n",
    "    param_dict = dict(zip(param_keys, params))\n",
    "    print(param_dict)\n",
    "    param_dict['file_name'] = string\n",
    "    \n",
    "    output = './milled_nbs/' + string\n",
    "    pm.execute_notebook(\n",
    "       input_nb_path,\n",
    "       output,\n",
    "       parameters = param_dict\n",
    "    )\n",
    "\n",
    "if __name__ == '__main__':\n",
    "    with Manager() as manager:\n",
    "        pool = Pool()\n",
    "        pool.map(process_notebook, param_permutations)\n",
    "        print(\"--- %s seconds ---\" % (time.time() - start_time))\n",
    "        for filename in glob.glob(\"./milled_nbs/surf*\"):\n",
    "            os.remove(filename) "
   ]
  },
  {
   "cell_type": "code",
   "execution_count": null,
   "metadata": {},
   "outputs": [],
   "source": []
  }
 ],
 "metadata": {
  "kernelspec": {
   "display_name": "Python 3",
   "language": "python",
   "name": "python3"
  },
  "language_info": {
   "codemirror_mode": {
    "name": "ipython",
    "version": 3
   },
   "file_extension": ".py",
   "mimetype": "text/x-python",
   "name": "python",
   "nbconvert_exporter": "python",
   "pygments_lexer": "ipython3",
   "version": "3.7.3"
  }
 },
 "nbformat": 4,
 "nbformat_minor": 4
}
