{
 "cells": [
  {
   "cell_type": "code",
   "execution_count": null,
   "metadata": {},
   "outputs": [],
   "source": [
    "%matplotlib widget\n",
    "import tonic\n",
    "from tonic.datasets.dataloader import Dataloader\n",
    "import tonic.transforms as transforms\n",
    "from pyhots.Network import Network\n",
    "from tqdm.auto import tqdm"
   ]
  },
  {
   "cell_type": "code",
   "execution_count": null,
   "metadata": {},
   "outputs": [],
   "source": [
    "trainset = tonic.datasets.NMNIST(save_to='./data', train=False, download=True, first_saccade_only=True)"
   ]
  },
  {
   "cell_type": "code",
   "execution_count": null,
   "metadata": {},
   "outputs": [],
   "source": [
    "#%%debug\n",
    "surface_dimensions = [(11, 11)]\n",
    "number_of_features = [64]\n",
    "time_constants = [10e3]\n",
    "\n",
    "net = Network(surface_dimensions_per_layer=surface_dimensions,\n",
    "              number_of_features_per_layer=number_of_features,\n",
    "              time_constants_per_layer=time_constants,\n",
    "              sensor_size=tonic.datasets.NMNIST.sensor_size,\n",
    "              plot_evolution=True,\n",
    "              reboot_bases=False,\n",
    "              merge_polarities=True,)\n",
    "              #drop_off_events=False,)\n",
    "\n",
    "# pick random files and one surface each to initialise bases\n",
    "trainloader = Dataloader(trainset, shuffle=True)\n",
    "for index, events_and_label in enumerate(iter(trainloader)):\n",
    "    net(events_and_label[0], events_and_label[1])\n",
    "    if index >= number_of_features[0]-1:\n",
    "        break"
   ]
  },
  {
   "cell_type": "code",
   "execution_count": null,
   "metadata": {},
   "outputs": [],
   "source": [
    "trainloader = Dataloader(trainset, shuffle=True)\n",
    "trainiterator = iter(trainloader)\n",
    "\n",
    "# learning\n",
    "[net(events, label) for events, label in tqdm(trainiterator)]    \n",
    "\n",
    "first = net.layers[0]"
   ]
  },
  {
   "cell_type": "code",
   "execution_count": null,
   "metadata": {},
   "outputs": [],
   "source": []
  }
 ],
 "metadata": {
  "kernelspec": {
   "display_name": "Python 3",
   "language": "python",
   "name": "python3"
  },
  "language_info": {
   "codemirror_mode": {
    "name": "ipython",
    "version": 3
   },
   "file_extension": ".py",
   "mimetype": "text/x-python",
   "name": "python",
   "nbconvert_exporter": "python",
   "pygments_lexer": "ipython3",
   "version": "3.7.3"
  }
 },
 "nbformat": 4,
 "nbformat_minor": 4
}
