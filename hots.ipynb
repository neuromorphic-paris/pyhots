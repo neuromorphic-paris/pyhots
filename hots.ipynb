{
 "cells": [
  {
   "cell_type": "code",
   "execution_count": null,
   "metadata": {},
   "outputs": [],
   "source": [
    "%matplotlib widget\n",
    "from pyhots.POKERDVS import POKERDVS\n",
    "from spike_data_augmentation.datasets.dataloader import Dataloader\n",
    "import spike_data_augmentation.transforms as transforms\n",
    "from pyhots.Network import Network"
   ]
  },
  {
   "cell_type": "code",
   "execution_count": null,
   "metadata": {},
   "outputs": [],
   "source": [
    "%%capture\n",
    "transform = transforms.Compose([transforms.DropEvent(drop_probability=0.0)])\n",
    "\n",
    "testset = POKERDVS(file_dir='/home/gregorlenz/Development/Github/HOTS-DOJO/Datasets/Cards/usable/pips',\n",
    "                   transform=transform)"
   ]
  },
  {
   "cell_type": "code",
   "execution_count": null,
   "metadata": {},
   "outputs": [],
   "source": [
    "surface_dimensions = [(11, 11)]\n",
    "number_of_features = [16]\n",
    "time_constants = [5e3]\n",
    "\n",
    "net = Network(surface_dimensions_per_layer=surface_dimensions,\n",
    "              number_of_features_per_layer=number_of_features,\n",
    "              time_constants_per_layer=time_constants,\n",
    "              sensor_size=POKERDVS.sensor_size,\n",
    "              plot_evolution=True,\n",
    "              reboot_bases=False,\n",
    "              merge_polarities=True,)\n",
    "              #drop_off_events=False,)\n",
    "\n",
    "# pick 16 random files and one surface each to initialise bases\n",
    "testloader = Dataloader(testset, shuffle=True)\n",
    "for index, events_and_label in enumerate(iter(testloader)):\n",
    "    net(events_and_label[0], events_and_label[1])\n",
    "    if index >= number_of_features[0]-1:\n",
    "        break"
   ]
  },
  {
   "cell_type": "code",
   "execution_count": null,
   "metadata": {},
   "outputs": [],
   "source": [
    "counts = dict(zip(POKERDVS.classes, [0, 0, 0, 0]))\n",
    "# start the learning\n",
    "testloader = Dataloader(testset, shuffle=True)\n",
    "testiterator = iter(testloader)\n",
    "for events, label in testiterator:\n",
    "    counts[label] += 1\n",
    "    net(events, label)\n",
    "    print('Processed', end='')\n",
    "    for key, value in counts.items():\n",
    "        print(' ' + str(value) + ' ' + key + ',', end='')\n",
    "    print('.')\n",
    "\n",
    "first = net.layers[0]"
   ]
  },
  {
   "cell_type": "code",
   "execution_count": null,
   "metadata": {},
   "outputs": [],
   "source": []
  },
  {
   "cell_type": "code",
   "execution_count": null,
   "metadata": {},
   "outputs": [],
   "source": []
  }
 ],
 "metadata": {
  "kernelspec": {
   "display_name": "Python 3",
   "language": "python",
   "name": "python3"
  },
  "language_info": {
   "codemirror_mode": {
    "name": "ipython",
    "version": 3
   },
   "file_extension": ".py",
   "mimetype": "text/x-python",
   "name": "python",
   "nbconvert_exporter": "python",
   "pygments_lexer": "ipython3",
   "version": "3.7.3"
  }
 },
 "nbformat": 4,
 "nbformat_minor": 4
}
