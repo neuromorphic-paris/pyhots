{
 "cells": [
  {
   "cell_type": "code",
   "execution_count": 1,
   "metadata": {},
   "outputs": [],
   "source": [
    "%matplotlib widget\n",
    "import spike_data_augmentation\n",
    "from spike_data_augmentation.datasets.dataloader import Dataloader\n",
    "import spike_data_augmentation.transforms as transforms\n",
    "from pyhots.Network import Network\n",
    "from tqdm.auto import tqdm"
   ]
  },
  {
   "cell_type": "code",
   "execution_count": 3,
   "metadata": {},
   "outputs": [
    {
     "name": "stderr",
     "output_type": "stream",
     "text": [
      "\r",
      "0it [00:00, ?it/s]"
     ]
    },
    {
     "name": "stdout",
     "output_type": "stream",
     "text": [
      "Downloading https://www.neuromorphic-vision.com/public/downloads/pips_selection.zip to ./data/pips_selection.zip\n"
     ]
    },
    {
     "name": "stderr",
     "output_type": "stream",
     "text": [
      "1146880it [00:00, 1753083.65it/s]                             \n"
     ]
    },
    {
     "name": "stdout",
     "output_type": "stream",
     "text": [
      "Extracting ./data/pips_selection.zip to ./data\n",
      "Read 3136 events of type dvs from cl_60_td.dat\n",
      "Read 2695 events of type dvs from cl_61_td.dat\n",
      "Read 2628 events of type dvs from cl_62_td.dat\n",
      "Read 2076 events of type dvs from cl_63_td.dat\n",
      "Read 2234 events of type dvs from cl_64_td.dat\n",
      "Read 2515 events of type dvs from cl_65_td.dat\n",
      "Read 2637 events of type dvs from cl_66_td.dat\n",
      "Read 3439 events of type dvs from cl_67_td.dat\n",
      "Read 1843 events of type dvs from cl_68_td.dat\n",
      "Read 2549 events of type dvs from cl_69_td.dat\n",
      "Read 1785 events of type dvs from cl_70_td.dat\n",
      "Read 3072 events of type dvs from cl_71_td.dat\n",
      "Read 3773 events of type dvs from cl_72_td.dat\n",
      "Read 2374 events of type dvs from cl_73_td.dat\n",
      "Read 3585 events of type dvs from cl_74_td.dat\n",
      "Read 3557 events of type dvs from cl_75_td.dat\n",
      "Read 3499 events of type dvs from cl_76_td.dat\n",
      "Read 2769 events of type dvs from di_17_td.dat\n",
      "Read 4316 events of type dvs from di_18_td.dat\n",
      "Read 4239 events of type dvs from di_19_td.dat\n",
      "Read 4083 events of type dvs from di_20_td.dat\n",
      "Read 3969 events of type dvs from di_21_td.dat\n",
      "Read 2358 events of type dvs from di_22_td.dat\n",
      "Read 3743 events of type dvs from di_23_td.dat\n",
      "Read 1408 events of type dvs from di_24_td.dat\n",
      "Read 3000 events of type dvs from di_25_td.dat\n",
      "Read 3013 events of type dvs from di_26_td.dat\n",
      "Read 2958 events of type dvs from di_27_td.dat\n",
      "Read 2696 events of type dvs from di_28_td.dat\n",
      "Read 1378 events of type dvs from di_29_td.dat\n",
      "Read 2918 events of type dvs from di_30_td.dat\n",
      "Read 3189 events of type dvs from di_31_td.dat\n",
      "Read 1216 events of type dvs from di_32_td.dat\n",
      "Read 1077 events of type dvs from di_33_td.dat\n",
      "Read 3789 events of type dvs from he_77_td.dat\n",
      "Read 954 events of type dvs from he_78_td.dat\n",
      "Read 3577 events of type dvs from he_79_td.dat\n",
      "Read 3476 events of type dvs from he_80_td.dat\n",
      "Read 3002 events of type dvs from he_81_td.dat\n",
      "Read 3072 events of type dvs from he_82_td.dat\n",
      "Read 2599 events of type dvs from he_83_td.dat\n",
      "Read 3077 events of type dvs from he_84_td.dat\n",
      "Read 3137 events of type dvs from he_85_td.dat\n",
      "Read 2549 events of type dvs from he_86_td.dat\n",
      "Read 1493 events of type dvs from he_87_td.dat\n",
      "Read 3542 events of type dvs from he_88_td.dat\n",
      "Read 3168 events of type dvs from he_89_td.dat\n",
      "Read 1681 events of type dvs from he_90_td.dat\n",
      "Read 3272 events of type dvs from he_91_td.dat\n",
      "Read 3088 events of type dvs from he_92_td.dat\n",
      "Read 870 events of type dvs from he_93_td.dat\n",
      "Read 5366 events of type dvs from sp_75_td.dat\n",
      "Read 5387 events of type dvs from sp_76_td.dat\n",
      "Read 4496 events of type dvs from sp_77_td.dat\n",
      "Read 3387 events of type dvs from sp_78_td.dat\n",
      "Read 3504 events of type dvs from sp_79_td.dat\n",
      "Read 3181 events of type dvs from sp_80_td.dat\n",
      "Read 3941 events of type dvs from sp_81_td.dat\n",
      "Read 4129 events of type dvs from sp_82_td.dat\n",
      "Read 3424 events of type dvs from sp_83_td.dat\n",
      "Read 3478 events of type dvs from sp_84_td.dat\n",
      "Read 4693 events of type dvs from sp_85_td.dat\n",
      "Read 4819 events of type dvs from sp_86_td.dat\n",
      "Read 3307 events of type dvs from sp_87_td.dat\n",
      "Read 3309 events of type dvs from sp_88_td.dat\n",
      "Read 3209 events of type dvs from sp_89_td.dat\n",
      "Read 3282 events of type dvs from sp_90_td.dat\n",
      "Read 2431 events of type dvs from sp_91_td.dat\n"
     ]
    }
   ],
   "source": [
    "trainset = spike_data_augmentation.datasets.POKERDVS(save_to='./data', download=True)"
   ]
  },
  {
   "cell_type": "code",
   "execution_count": 8,
   "metadata": {},
   "outputs": [
    {
     "data": {
      "application/vnd.jupyter.widget-view+json": {
       "model_id": "c5de9aacc8d341469accb6783a883746",
       "version_major": 2,
       "version_minor": 0
      },
      "text/plain": [
       "Canvas(toolbar=Toolbar(toolitems=[('Home', 'Reset original view', 'home', 'home'), ('Back', 'Back to previous …"
      ]
     },
     "metadata": {},
     "output_type": "display_data"
    },
    {
     "ename": "AssertionError",
     "evalue": "",
     "output_type": "error",
     "traceback": [
      "\u001b[0;31m---------------------------------------------------------------------------\u001b[0m",
      "\u001b[0;31mAssertionError\u001b[0m                            Traceback (most recent call last)",
      "\u001b[0;32m<ipython-input-8-7916a50ea88b>\u001b[0m in \u001b[0;36m<module>\u001b[0;34m\u001b[0m\n\u001b[1;32m     16\u001b[0m \u001b[0mtrainloader\u001b[0m \u001b[0;34m=\u001b[0m \u001b[0mDataloader\u001b[0m\u001b[0;34m(\u001b[0m\u001b[0mtrainset\u001b[0m\u001b[0;34m,\u001b[0m \u001b[0mshuffle\u001b[0m\u001b[0;34m=\u001b[0m\u001b[0;32mTrue\u001b[0m\u001b[0;34m)\u001b[0m\u001b[0;34m\u001b[0m\u001b[0m\n\u001b[1;32m     17\u001b[0m \u001b[0;32mfor\u001b[0m \u001b[0mindex\u001b[0m\u001b[0;34m,\u001b[0m \u001b[0mevents_and_label\u001b[0m \u001b[0;32min\u001b[0m \u001b[0menumerate\u001b[0m\u001b[0;34m(\u001b[0m\u001b[0miter\u001b[0m\u001b[0;34m(\u001b[0m\u001b[0mtrainloader\u001b[0m\u001b[0;34m)\u001b[0m\u001b[0;34m)\u001b[0m\u001b[0;34m:\u001b[0m\u001b[0;34m\u001b[0m\u001b[0m\n\u001b[0;32m---> 18\u001b[0;31m     \u001b[0mnet\u001b[0m\u001b[0;34m(\u001b[0m\u001b[0mevents_and_label\u001b[0m\u001b[0;34m[\u001b[0m\u001b[0;36m0\u001b[0m\u001b[0;34m]\u001b[0m\u001b[0;34m,\u001b[0m \u001b[0mevents_and_label\u001b[0m\u001b[0;34m[\u001b[0m\u001b[0;36m1\u001b[0m\u001b[0;34m]\u001b[0m\u001b[0;34m)\u001b[0m\u001b[0;34m\u001b[0m\u001b[0m\n\u001b[0m\u001b[1;32m     19\u001b[0m     \u001b[0;32mif\u001b[0m \u001b[0mindex\u001b[0m \u001b[0;34m>=\u001b[0m \u001b[0mnumber_of_features\u001b[0m\u001b[0;34m[\u001b[0m\u001b[0;36m0\u001b[0m\u001b[0;34m]\u001b[0m\u001b[0;34m-\u001b[0m\u001b[0;36m1\u001b[0m\u001b[0;34m:\u001b[0m\u001b[0;34m\u001b[0m\u001b[0m\n\u001b[1;32m     20\u001b[0m         \u001b[0;32mbreak\u001b[0m\u001b[0;34m\u001b[0m\u001b[0m\n",
      "\u001b[0;32m~/WORK/CODE/collaborations/pyhots/pyhots/Network.py\u001b[0m in \u001b[0;36m__call__\u001b[0;34m(self, recording, label)\u001b[0m\n\u001b[1;32m     50\u001b[0m         \u001b[0mrecording\u001b[0m \u001b[0;34m=\u001b[0m \u001b[0mrecording\u001b[0m\u001b[0;34m.\u001b[0m\u001b[0mview\u001b[0m\u001b[0;34m(\u001b[0m\u001b[0mtype\u001b[0m\u001b[0;34m=\u001b[0m\u001b[0mnp\u001b[0m\u001b[0;34m.\u001b[0m\u001b[0mrecarray\u001b[0m\u001b[0;34m,\u001b[0m \u001b[0mdtype\u001b[0m\u001b[0;34m=\u001b[0m\u001b[0;34m[\u001b[0m\u001b[0;34m(\u001b[0m\u001b[0;34m'x'\u001b[0m\u001b[0;34m,\u001b[0m \u001b[0mnp\u001b[0m\u001b[0;34m.\u001b[0m\u001b[0mint32\u001b[0m\u001b[0;34m)\u001b[0m\u001b[0;34m,\u001b[0m \u001b[0;34m(\u001b[0m\u001b[0;34m'y'\u001b[0m\u001b[0;34m,\u001b[0m \u001b[0mnp\u001b[0m\u001b[0;34m.\u001b[0m\u001b[0mint32\u001b[0m\u001b[0;34m)\u001b[0m\u001b[0;34m,\u001b[0m \u001b[0;34m(\u001b[0m\u001b[0;34m't'\u001b[0m\u001b[0;34m,\u001b[0m \u001b[0mnp\u001b[0m\u001b[0;34m.\u001b[0m\u001b[0mint32\u001b[0m\u001b[0;34m)\u001b[0m\u001b[0;34m,\u001b[0m \u001b[0;34m(\u001b[0m\u001b[0;34m'p'\u001b[0m\u001b[0;34m,\u001b[0m \u001b[0mnp\u001b[0m\u001b[0;34m.\u001b[0m\u001b[0mint32\u001b[0m\u001b[0;34m)\u001b[0m\u001b[0;34m]\u001b[0m\u001b[0;34m)\u001b[0m\u001b[0;34m\u001b[0m\u001b[0m\n\u001b[1;32m     51\u001b[0m         \u001b[0mrecording\u001b[0m \u001b[0;34m=\u001b[0m \u001b[0mrecording\u001b[0m\u001b[0;34m.\u001b[0m\u001b[0mreshape\u001b[0m\u001b[0;34m(\u001b[0m\u001b[0;34m-\u001b[0m\u001b[0;36m1\u001b[0m\u001b[0;34m)\u001b[0m\u001b[0;34m\u001b[0m\u001b[0m\n\u001b[0;32m---> 52\u001b[0;31m         \u001b[0;32massert\u001b[0m \u001b[0mmax\u001b[0m\u001b[0;34m(\u001b[0m\u001b[0mrecording\u001b[0m\u001b[0;34m.\u001b[0m\u001b[0mx\u001b[0m\u001b[0;34m)\u001b[0m \u001b[0;34m<\u001b[0m \u001b[0mself\u001b[0m\u001b[0;34m.\u001b[0m\u001b[0msensor_size\u001b[0m\u001b[0;34m[\u001b[0m\u001b[0;36m0\u001b[0m\u001b[0;34m]\u001b[0m\u001b[0;34m\u001b[0m\u001b[0m\n\u001b[0m\u001b[1;32m     53\u001b[0m         \u001b[0;32massert\u001b[0m \u001b[0mmax\u001b[0m\u001b[0;34m(\u001b[0m\u001b[0mrecording\u001b[0m\u001b[0;34m.\u001b[0m\u001b[0my\u001b[0m\u001b[0;34m)\u001b[0m \u001b[0;34m<\u001b[0m \u001b[0mself\u001b[0m\u001b[0;34m.\u001b[0m\u001b[0msensor_size\u001b[0m\u001b[0;34m[\u001b[0m\u001b[0;36m1\u001b[0m\u001b[0;34m]\u001b[0m\u001b[0;34m\u001b[0m\u001b[0m\n\u001b[1;32m     54\u001b[0m         \u001b[0;32massert\u001b[0m \u001b[0mall\u001b[0m\u001b[0;34m(\u001b[0m\u001b[0mt1\u001b[0m \u001b[0;34m<=\u001b[0m \u001b[0mt2\u001b[0m \u001b[0;32mfor\u001b[0m \u001b[0mt1\u001b[0m\u001b[0;34m,\u001b[0m \u001b[0mt2\u001b[0m \u001b[0;32min\u001b[0m \u001b[0mzip\u001b[0m\u001b[0;34m(\u001b[0m\u001b[0mrecording\u001b[0m\u001b[0;34m.\u001b[0m\u001b[0mt\u001b[0m\u001b[0;34m,\u001b[0m \u001b[0mrecording\u001b[0m\u001b[0;34m.\u001b[0m\u001b[0mt\u001b[0m\u001b[0;34m[\u001b[0m\u001b[0;36m1\u001b[0m\u001b[0;34m:\u001b[0m\u001b[0;34m]\u001b[0m\u001b[0;34m)\u001b[0m\u001b[0;34m)\u001b[0m\u001b[0;34m\u001b[0m\u001b[0m\n",
      "\u001b[0;31mAssertionError\u001b[0m: "
     ]
    }
   ],
   "source": [
    "#%%debug\n",
    "surface_dimensions = [(11, 11)]\n",
    "number_of_features = [64]\n",
    "time_constants = [10e3]\n",
    "\n",
    "net = Network(surface_dimensions_per_layer=surface_dimensions,\n",
    "              number_of_features_per_layer=number_of_features,\n",
    "              time_constants_per_layer=time_constants,\n",
    "              sensor_size=(100,100),\n",
    "              plot_evolution=True,\n",
    "              reboot_bases=False,\n",
    "              merge_polarities=True,)\n",
    "              #drop_off_events=False,)\n",
    "\n",
    "# pick random files and one surface each to initialise bases\n",
    "trainloader = Dataloader(trainset, shuffle=True)\n",
    "for index, events_and_label in enumerate(iter(trainloader)):\n",
    "    net(events_and_label[0], events_and_label[1])\n",
    "    if index >= number_of_features[0]-1:\n",
    "        break"
   ]
  },
  {
   "cell_type": "code",
   "execution_count": null,
   "metadata": {},
   "outputs": [],
   "source": [
    "trainloader = Dataloader(trainset, shuffle=True)\n",
    "trainiterator = iter(trainloader)\n",
    "\n",
    "# learning\n",
    "[net(events, label) for events, label in tqdm(trainiterator)]    \n",
    "\n",
    "first = net.layers[0]"
   ]
  },
  {
   "cell_type": "code",
   "execution_count": null,
   "metadata": {},
   "outputs": [],
   "source": []
  }
 ],
 "metadata": {
  "kernelspec": {
   "display_name": "Python 3",
   "language": "python",
   "name": "python3"
  },
  "language_info": {
   "codemirror_mode": {
    "name": "ipython",
    "version": 3
   },
   "file_extension": ".py",
   "mimetype": "text/x-python",
   "name": "python",
   "nbconvert_exporter": "python",
   "pygments_lexer": "ipython3",
   "version": "3.5.3"
  }
 },
 "nbformat": 4,
 "nbformat_minor": 4
}
